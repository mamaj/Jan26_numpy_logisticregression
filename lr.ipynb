{
 "cells": [
  {
   "cell_type": "code",
   "execution_count": 5,
   "metadata": {},
   "outputs": [],
   "source": [
    "import numpy as np\n",
    "import matplotlib.pyplot as plt"
   ]
  },
  {
   "cell_type": "code",
   "execution_count": 30,
   "metadata": {},
   "outputs": [],
   "source": [
    "from starter import loadData\n",
    "\n",
    "x_train, x_valid, x_test, y_train, y_valid, y_test = loadData()"
   ]
  },
  {
   "cell_type": "code",
   "execution_count": 31,
   "metadata": {},
   "outputs": [
    {
     "data": {
      "text/plain": [
       "(28, 28)"
      ]
     },
     "execution_count": 31,
     "metadata": {},
     "output_type": "execute_result"
    }
   ],
   "source": [
    "x_train.shape\n",
    "\n",
    "x_train[0].shape"
   ]
  },
  {
   "cell_type": "code",
   "execution_count": 33,
   "metadata": {},
   "outputs": [
    {
     "data": {
      "image/png": "[encoded data removed]",
      "text/plain": [
       "<Figure size 432x288 with 1 Axes>"
      ]
     },
     "metadata": {
      "needs_background": "light"
     },
     "output_type": "display_data"
    }
   ],
   "source": [
    "i = 0\n",
    "plt.imshow(x_train[i])\n",
    "plt.title(y_train[i, 0]);"
   ]
  },
  {
   "cell_type": "code",
   "execution_count": 10,
   "metadata": {},
   "outputs": [
    {
     "data": {
      "text/plain": [
       "(3500, 784)"
      ]
     },
     "execution_count": 10,
     "metadata": {},
     "output_type": "execute_result"
    }
   ],
   "source": [
    "x_train = x_train.reshape(3500, -1)\n",
    "N, D = x_train.shape"
   ]
  },
  {
   "cell_type": "code",
   "execution_count": 27,
   "metadata": {},
   "outputs": [],
   "source": [
    "def lr_predict(w, b, x):\n",
    "    # y_hat = sigmoid (wt x + b)\n",
    "    \n",
    "    # w is (D, )\n",
    "    # x is (N, D), N vectors not just one\n",
    "\n",
    "    return  sigmoid(x @ w + b)\n",
    "\n",
    "def sigmoid(z):\n",
    "    return 1 / (1 + np.exp(-z))\n",
    "\n",
    "\n",
    "w = np.random.normal(size=(D, 1))\n",
    "b = np.random.normal(size=1)\n",
    "\n",
    "y_train_hat = lr_predict(w, b, x_train)\n",
    "\n"
   ]
  },
  {
   "cell_type": "code",
   "execution_count": 28,
   "metadata": {},
   "outputs": [
    {
     "data": {
      "text/plain": [
       "0.24514285714285713"
      ]
     },
     "execution_count": 28,
     "metadata": {},
     "output_type": "execute_result"
    }
   ],
   "source": [
    "target_hat = (y_train_hat > 0.5).astype(float)\n",
    "\n",
    "acc = (target_hat == y_train).mean()\n",
    "acc"
   ]
  },
  {
   "cell_type": "code",
   "execution_count": null,
   "metadata": {},
   "outputs": [],
   "source": [
    "def loss(w, b, x, y, reg):\n",
    "    y_hat = lr_predict(w, b, x)\n",
    "    ce_loss = (- y * np.log(y_hat) - (1-y) * np.log(1-y_hat)).mean()\n",
    "    reg_loss = w @ w / 2\n",
    "    return ce_loss + reg * reg_loss\n",
    "    \n",
    "\n",
    "def grad_loss(w, b, x, y):\n",
    "    return grad_w, grad_b\n",
    "\n",
    "def grad_descent(w, b, x, y, nepochs, alpha):\n",
    "    train_loss = []\n",
    "    for i in range(n_epochs):\n",
    "            grad_w, grad_b = grad_loss(w, b, x, y)\n",
    "            w -= alpha * grad_w\n",
    "            b -= alpha * grad_b\n",
    "            train_loss.append(loss(w, b, x, y, reg))\n",
    "        \n",
    "    return w, b, train_loss\n",
    "\n",
    "\n",
    "# * -> elementwise product (n, m) x (n, m) = (n, m)\n",
    "# @ -> linear algebra, matrix product  (n, m) x (m, p) = (n, p)"
   ]
  }
 ],
 "metadata": {
  "interpreter": {
   "hash": "469f5f77020a6bf0b8352c327159178e7b830cb632b6f08b8fccb1c08b8eff43"
  },
  "kernelspec": {
   "display_name": "Python 3.9.5 64-bit ('base': conda)",
   "language": "python",
   "name": "python3"
  },
  "language_info": {
   "codemirror_mode": {
    "name": "ipython",
    "version": 3
   },
   "file_extension": ".py",
   "mimetype": "text/x-python",
   "name": "python",
   "nbconvert_exporter": "python",
   "pygments_lexer": "ipython3",
   "version": "3.9.5"
  },
  "orig_nbformat": 4
 },
 "nbformat": 4,
 "nbformat_minor": 2
}
