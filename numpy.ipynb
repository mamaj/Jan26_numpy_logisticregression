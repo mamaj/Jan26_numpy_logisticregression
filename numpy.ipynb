{
 "cells": [
  {
   "cell_type": "markdown",
   "metadata": {},
   "source": [
    "### Link to the recording: \n",
    "https://utoronto.zoom.us/rec/share/7L29_fWVClsQHMRlka0cqV09cSRhydPkEeTmCAixRajAf4nXmp372KzbywiCjBc3.yGldFM7mAca2lBE6?startTime=1643220615000 (Passcode: i@Gb!7#P1W)\n",
    "\n",
    "\n",
    "\n",
    "\n",
    "### References:\n",
    "\n",
    "1. NumPy Cheat Sheet:\n",
    "http://datacamp-community-prod.s3.amazonaws.com/ba1fe95a-8b70-4d2f-95b0-bc954e9071b0\n",
    "\n",
    "2. NumPy Quick Start:\n",
    "https://numpy.org/doc/stable/user/quickstart.html\n",
    "\n",
    "3. Real Python NumPy Tutorial:\n",
    "https://realpython.com/numpy-tutorial/\n",
    "\n",
    "4. `ndarray` Methods:\n",
    "https://numpy.org/doc/stable/reference/arrays.ndarray.html#array-methods\n",
    "\n",
    "\n",
    "Google Colab: https://colab.research.google.com/"
   ]
  },
  {
   "cell_type": "code",
   "execution_count": 1,
   "metadata": {},
   "outputs": [],
   "source": [
    "import numpy as np"
   ]
  },
  {
   "cell_type": "code",
   "execution_count": 4,
   "metadata": {},
   "outputs": [
    {
     "data": {
      "text/plain": [
       "numpy.ndarray"
      ]
     },
     "execution_count": 4,
     "metadata": {},
     "output_type": "execute_result"
    }
   ],
   "source": [
    "x = np.array([1, 2, 3])\n",
    "type(x)"
   ]
  },
  {
   "cell_type": "code",
   "execution_count": 5,
   "metadata": {},
   "outputs": [
    {
     "data": {
      "text/plain": [
       "array([[1, 2, 3],\n",
       "       [4, 5, 6]])"
      ]
     },
     "execution_count": 5,
     "metadata": {},
     "output_type": "execute_result"
    }
   ],
   "source": [
    "x = np.array([[1, 2, 3], [4, 5, 6]])\n",
    "x"
   ]
  },
  {
   "cell_type": "code",
   "execution_count": 15,
   "metadata": {},
   "outputs": [
    {
     "data": {
      "text/plain": [
       "array([[0., 0., 0., 0., 0.],\n",
       "       [0., 0., 0., 0., 0.],\n",
       "       [0., 0., 0., 0., 0.],\n",
       "       [0., 0., 0., 0., 0.]])"
      ]
     },
     "execution_count": 15,
     "metadata": {},
     "output_type": "execute_result"
    }
   ],
   "source": [
    "np.arange(10)\n",
    "np.arange(4, 10)\n",
    "np.arange(3, 10, 2)\n",
    "\n",
    "np.zeros((4, 5))\n",
    "np.ones(4)\n",
    "\n",
    "np.linspace(0, 1, 10)\n",
    "\n",
    "np.eye(3)\n",
    "\n",
    "np.random.normal(size=(3, 4))\n",
    "\n"
   ]
  },
  {
   "cell_type": "code",
   "execution_count": 28,
   "metadata": {},
   "outputs": [
    {
     "data": {
      "text/plain": [
       "dtype('int32')"
      ]
     },
     "execution_count": 28,
     "metadata": {},
     "output_type": "execute_result"
    }
   ],
   "source": [
    "a = np.ones((3, 4), dtype=np.int32)\n",
    "\n",
    "a.shape[0] # same as len(a)\n",
    "\n",
    "a.dtype\n",
    "\n"
   ]
  },
  {
   "cell_type": "code",
   "execution_count": 31,
   "metadata": {},
   "outputs": [
    {
     "data": {
      "text/plain": [
       "array([0., 1., 2.])"
      ]
     },
     "execution_count": 31,
     "metadata": {},
     "output_type": "execute_result"
    }
   ],
   "source": [
    "x = np.eye(3)\n",
    "y = np.arange(3)\n",
    "\n",
    "y @ x # same as np.matmul\n",
    "# do not use np.dot() for matrix multiplication, instead np.matmul(), or @\n",
    "\n",
    "a = np.random.random((3, 3))\n",
    "b = np.random.random((3, 3))\n",
    "\n",
    "a * b # element-wise product\n",
    "a @ b # matrix product\n",
    "\n"
   ]
  },
  {
   "cell_type": "code",
   "execution_count": 37,
   "metadata": {},
   "outputs": [
    {
     "data": {
      "text/plain": [
       "array([10, 11])"
      ]
     },
     "execution_count": 37,
     "metadata": {},
     "output_type": "execute_result"
    }
   ],
   "source": [
    "a = np.arange(9).reshape(3, 3)\n",
    "\n",
    "\n",
    "a > 3   # a boolean array with the same shape as `a`\n",
    "\n",
    "a == 3 \n",
    "\n",
    "# boolean indexing, for accessing elements using a condition\n",
    "a[ a > 3 ] = 100\n",
    " \n",
    "\n",
    "grades = np.array([4, 5, 0, 10, 11])\n",
    "ages = np.array([20, 20, 19, 21, 30])\n",
    "\n",
    "# print the grades of students older than 20\n",
    "grades[ages > 20] \n",
    "\n"
   ]
  },
  {
   "cell_type": "code",
   "execution_count": 40,
   "metadata": {},
   "outputs": [
    {
     "data": {
      "text/plain": [
       "True"
      ]
     },
     "execution_count": 40,
     "metadata": {},
     "output_type": "execute_result"
    }
   ],
   "source": [
    "a = np.arange(3)\n",
    "b = np.array([0, 1, 2])\n",
    "\n",
    "np.array_equal(a, b)\n",
    "np.all(a == b)\n"
   ]
  },
  {
   "cell_type": "code",
   "execution_count": 50,
   "metadata": {},
   "outputs": [
    {
     "name": "stdout",
     "output_type": "stream",
     "text": [
      "[[ 0  1  2  3]\n",
      " [ 4  5  6  7]\n",
      " [ 8  9 10 11]]\n",
      "[12 15 18 21]\n",
      "[0 0 0 0]\n"
     ]
    }
   ],
   "source": [
    "a = np.arange(12).reshape(3, 4)\n",
    "\n",
    "print(a)\n",
    "\n",
    "print(a.sum(axis=0))  # the axis specified will be removed (aggregated over)\n",
    "\n",
    "print(a.argmin(axis=0))"
   ]
  },
  {
   "cell_type": "code",
   "execution_count": 61,
   "metadata": {},
   "outputs": [
    {
     "data": {
      "text/plain": [
       "array([109, 108, 107, 106, 105, 104, 103, 102, 101, 100])"
      ]
     },
     "execution_count": 61,
     "metadata": {},
     "output_type": "execute_result"
    }
   ],
   "source": [
    "a = np.arange(10) + 100\n",
    "\n",
    "\n",
    "a[0]\n",
    "a[1]\n",
    "\n",
    "a[-1]\n",
    "a[-2]\n",
    "\n",
    "# a[start:stop:step]\n",
    "\n",
    "a[0:5]\n",
    "a[:5]\n",
    "\n",
    "a[5:]\n",
    "\n",
    "a[0:8:2]\n",
    "\n",
    "a[::2]\n",
    "\n",
    "a[::-1] # reverse the array"
   ]
  },
  {
   "cell_type": "code",
   "execution_count": 64,
   "metadata": {},
   "outputs": [
    {
     "data": {
      "text/plain": [
       "array([0, 2])"
      ]
     },
     "execution_count": 64,
     "metadata": {},
     "output_type": "execute_result"
    }
   ],
   "source": [
    "a = np.arange(12).reshape(3, 4)\n",
    "\n",
    "a[1, 1]\n",
    "a[0, :] # row 1, all cols\n",
    "a[-1, :] #last row\n",
    "\n",
    "a[0, ::2] # first row, select elements with step 2"
   ]
  },
  {
   "cell_type": "code",
   "execution_count": 71,
   "metadata": {},
   "outputs": [
    {
     "name": "stdout",
     "output_type": "stream",
     "text": [
      "[[ 0  1  2  3]\n",
      " [ 4  5  6  7]\n",
      " [ 8  9 10 11]]\n",
      "[[ 0  4  8]\n",
      " [ 1  5  9]\n",
      " [ 2  6 10]\n",
      " [ 3  7 11]]\n"
     ]
    },
    {
     "data": {
      "text/plain": [
       "(4, 3, 2)"
      ]
     },
     "execution_count": 71,
     "metadata": {},
     "output_type": "execute_result"
    }
   ],
   "source": [
    "a = np.arange(12).reshape(3, 4)\n",
    "\n",
    "print(a)\n",
    "print(a.T)\n",
    "\n",
    "b = np.arange(24).reshape(2, 3, 4)\n",
    "b = np.swapaxes(b, 0, -1)\n",
    "b.shape\n"
   ]
  },
  {
   "cell_type": "code",
   "execution_count": 78,
   "metadata": {},
   "outputs": [
    {
     "data": {
      "text/plain": [
       "array([1., 0., 0., 0., 1., 0., 0., 0., 1.])"
      ]
     },
     "execution_count": 78,
     "metadata": {},
     "output_type": "execute_result"
    }
   ],
   "source": [
    "a = np.arange(12)\n",
    "a.reshape(4, -1)  # -1 means find out yourself!\n",
    "\n",
    "np.eye(3).reshape(-1)\n",
    "\n",
    "np.eye(3).ravel() # flatten == .reshape(-1)"
   ]
  },
  {
   "cell_type": "markdown",
   "metadata": {},
   "source": [
    "### Broadcasting\n",
    "\n",
    " for any elementwise operation, with two arrays, broadcasting will kick in:\n",
    "\n",
    "a -> (3, 3)\n",
    "b -> (3, 3)\n",
    "\n",
    "a + b ✅\n",
    "\n",
    "\n",
    "a -> (3, 3)\n",
    "b -> (3, 4)\n",
    "\n",
    "a + b ❌\n",
    "\n",
    "\n",
    "a -> (3, 3)\n",
    "b -> (3, 1) -> will become (3, 3) by repeating the first column\n",
    "\n",
    "this will work because of broadcasting\n",
    "\n",
    "\n",
    " add a vector to every row/column of a matrix => avoid for loops\n",
    " you have a (N, D) array of data, and you want to find the closest row to another vector of shape (D, )\n",
    "x -> (N, D)\n",
    "a -> (   D) -> [broadcasting] (N, D)\n",
    "\n",
    "(x - a) : (N, D) array\n",
    "\n",
    "np.sum((x - a)**2, axis=1) -> array of shape N\n",
    "\n",
    "\n",
    "np.sum((x - a)**2, axis=1).argmin() : the index of the closest row of x to a \n",
    "\n",
    "\n",
    "\n",
    "\n",
    "https://numpy.org/doc/stable/user/basics.broadcasting.html\n",
    "\n"
   ]
  }
 ],
 "metadata": {
  "interpreter": {
   "hash": "469f5f77020a6bf0b8352c327159178e7b830cb632b6f08b8fccb1c08b8eff43"
  },
  "kernelspec": {
   "display_name": "Python 3.9.5 64-bit ('base': conda)",
   "language": "python",
   "name": "python3"
  },
  "language_info": {
   "codemirror_mode": {
    "name": "ipython",
    "version": 3
   },
   "file_extension": ".py",
   "mimetype": "text/x-python",
   "name": "python",
   "nbconvert_exporter": "python",
   "pygments_lexer": "ipython3",
   "version": "3.9.5"
  },
  "orig_nbformat": 4
 },
 "nbformat": 4,
 "nbformat_minor": 2
}
